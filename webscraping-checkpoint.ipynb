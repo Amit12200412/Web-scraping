{
 "cells": [
  {
   "cell_type": "code",
   "execution_count": 1,
   "id": "5130485c",
   "metadata": {},
   "outputs": [
    {
     "name": "stdout",
     "output_type": "stream",
     "text": [
      "Defaulting to user installation because normal site-packages is not writeable\n",
      "Requirement already satisfied: requests in c:\\users\\amit\\appdata\\roaming\\python\\python39\\site-packages (2.32.5)\n",
      "Requirement already satisfied: pandas in c:\\users\\amit\\appdata\\roaming\\python\\python39\\site-packages (2.3.2)\n",
      "Requirement already satisfied: openpyxl in c:\\users\\amit\\appdata\\roaming\\python\\python39\\site-packages (3.1.5)\n",
      "Requirement already satisfied: numexpr in c:\\users\\amit\\appdata\\roaming\\python\\python39\\site-packages (2.10.2)\n",
      "Requirement already satisfied: bottleneck in c:\\users\\amit\\appdata\\roaming\\python\\python39\\site-packages (1.5.0)\n",
      "Requirement already satisfied: charset_normalizer<4,>=2 in c:\\programdata\\anaconda3\\lib\\site-packages (from requests) (2.0.4)\n",
      "Requirement already satisfied: urllib3<3,>=1.21.1 in c:\\users\\amit\\appdata\\roaming\\python\\python39\\site-packages (from requests) (2.5.0)\n",
      "Requirement already satisfied: certifi>=2017.4.17 in c:\\users\\amit\\appdata\\roaming\\python\\python39\\site-packages (from requests) (2025.8.3)\n",
      "Requirement already satisfied: idna<4,>=2.5 in c:\\programdata\\anaconda3\\lib\\site-packages (from requests) (3.3)\n",
      "Requirement already satisfied: tzdata>=2022.7 in c:\\users\\amit\\appdata\\roaming\\python\\python39\\site-packages (from pandas) (2025.2)\n",
      "Requirement already satisfied: python-dateutil>=2.8.2 in c:\\users\\amit\\appdata\\roaming\\python\\python39\\site-packages (from pandas) (2.9.0.post0)\n",
      "Requirement already satisfied: numpy>=1.22.4 in c:\\users\\amit\\appdata\\roaming\\python\\python39\\site-packages (from pandas) (1.26.4)\n",
      "Requirement already satisfied: pytz>=2020.1 in c:\\users\\amit\\appdata\\roaming\\python\\python39\\site-packages (from pandas) (2025.2)\n",
      "Requirement already satisfied: et-xmlfile in c:\\programdata\\anaconda3\\lib\\site-packages (from openpyxl) (1.1.0)\n",
      "Requirement already satisfied: six>=1.5 in c:\\users\\amit\\appdata\\roaming\\python\\python39\\site-packages (from python-dateutil>=2.8.2->pandas) (1.17.0)\n"
     ]
    }
   ],
   "source": [
    "!pip install --upgrade requests pandas openpyxl numexpr bottleneck\n"
   ]
  },
  {
   "cell_type": "code",
   "execution_count": 4,
   "id": "c8d755c4",
   "metadata": {},
   "outputs": [
    {
     "data": {
      "application/vnd.jupyter.widget-view+json": {
       "model_id": "adbf565db7d5421689f97b7acf49d5e3",
       "version_major": 2,
       "version_minor": 0
      },
      "text/plain": [
       "Text(value='', description='Country:', layout=Layout(width='500px'))"
      ]
     },
     "metadata": {},
     "output_type": "display_data"
    },
    {
     "data": {
      "application/vnd.jupyter.widget-view+json": {
       "model_id": "75cdfad973d84391949a772178a62c1b",
       "version_major": 2,
       "version_minor": 0
      },
      "text/plain": [
       "Text(value='', description='City/State:', layout=Layout(width='500px'))"
      ]
     },
     "metadata": {},
     "output_type": "display_data"
    },
    {
     "data": {
      "application/vnd.jupyter.widget-view+json": {
       "model_id": "603f96c035ee4b50b3fe4bddc043f6a0",
       "version_major": 2,
       "version_minor": 0
      },
      "text/plain": [
       "Text(value='', description='Categories:', layout=Layout(width='500px'))"
      ]
     },
     "metadata": {},
     "output_type": "display_data"
    },
    {
     "data": {
      "application/vnd.jupyter.widget-view+json": {
       "model_id": "934a3b718df34b45b4a57e186ffd777e",
       "version_major": 2,
       "version_minor": 0
      },
      "text/plain": [
       "Text(value='', description='Output File:', layout=Layout(width='500px'))"
      ]
     },
     "metadata": {},
     "output_type": "display_data"
    },
    {
     "data": {
      "application/vnd.jupyter.widget-view+json": {
       "model_id": "03f6ce8ddfcc43bd8fef9607ddafdf80",
       "version_major": 2,
       "version_minor": 0
      },
      "text/plain": [
       "Button(button_style='success', description='Run Scraper', style=ButtonStyle())"
      ]
     },
     "metadata": {},
     "output_type": "display_data"
    },
    {
     "data": {
      "application/vnd.jupyter.widget-view+json": {
       "model_id": "87ec10068dd24aabae5c28cd6ca23f2d",
       "version_major": 2,
       "version_minor": 0
      },
      "text/plain": [
       "Output()"
      ]
     },
     "metadata": {},
     "output_type": "display_data"
    }
   ],
   "source": [
    "import requests\n",
    "import pandas as pd\n",
    "import re\n",
    "import time\n",
    "import logging\n",
    "from typing import Optional\n",
    "import ipywidgets as widgets\n",
    "from IPython.display import display, clear_output\n",
    "\n",
    "# -------------------------------------------------\n",
    "# Logging setup\n",
    "# -------------------------------------------------\n",
    "logging.basicConfig(\n",
    "    level=logging.INFO,\n",
    "    format=\"%(asctime)s - %(levelname)s - %(message)s\",\n",
    "    handlers=[\n",
    "        logging.FileHandler(\"serpapi_scraper.log\"),\n",
    "        logging.StreamHandler()\n",
    "    ]\n",
    ")\n",
    "\n",
    "def extract_email_from_website(url: str, retries: int = 2) -> Optional[str]:\n",
    "    \"\"\"Fetch the first email found on the given website.\"\"\"\n",
    "    if not url:\n",
    "        return None\n",
    "    if not url.startswith((\"http://\", \"https://\")):\n",
    "        url = \"https://\" + url\n",
    "    for attempt in range(retries):\n",
    "        try:\n",
    "            resp = requests.get(\n",
    "                url,\n",
    "                timeout=8,\n",
    "                headers={\"User-Agent\":\n",
    "                         \"Mozilla/5.0 (Windows NT 10.0; Win64; x64) \"\n",
    "                         \"AppleWebKit/537.36 (KHTML, like Gecko) \"\n",
    "                         \"Chrome/140.0.0.0 Safari/537.36\"}\n",
    "            )\n",
    "            emails = re.findall(r\"[A-Za-z0-9._%+-]+@[A-Za-z0-9.-]+\\.[A-Za-z]{2,}\", resp.text)\n",
    "            if emails:\n",
    "                return emails[0]\n",
    "        except Exception as e:\n",
    "            logging.warning(f\"Attempt {attempt+1} failed for {url}: {e}\")\n",
    "            time.sleep(2)\n",
    "    return None\n",
    "\n",
    "# -----------------------------\n",
    "# Fixed SerpApi key in code\n",
    "# -----------------------------\n",
    "SERPAPI_KEY = \"7f41b21e0746f2ca2a9065add6d74c71a89bee1dfe8720992ecc9acbb2353737\"\n",
    "\n",
    "# -----------------------------\n",
    "# GUI widgets (all blank for user)\n",
    "# -----------------------------\n",
    "country_widget = widgets.Text(\n",
    "    value='',\n",
    "    description='Country:',\n",
    "    layout=widgets.Layout(width='500px')\n",
    ")\n",
    "\n",
    "city_widget = widgets.Text(\n",
    "    value='',\n",
    "    description='City/State:',\n",
    "    layout=widgets.Layout(width='500px')\n",
    ")\n",
    "\n",
    "categories_widget = widgets.Text(\n",
    "    value='',\n",
    "    description='Categories:',\n",
    "    layout=widgets.Layout(width='500px')\n",
    ")\n",
    "\n",
    "output_widget = widgets.Text(\n",
    "    value='',\n",
    "    description='Output File:',\n",
    "    layout=widgets.Layout(width='500px')\n",
    ")\n",
    "\n",
    "run_button = widgets.Button(\n",
    "    description=\"Run Scraper\",\n",
    "    button_style='success'\n",
    ")\n",
    "\n",
    "output_area = widgets.Output()\n",
    "# -----------------------------\n",
    "# Scraper function (updated)\n",
    "# -----------------------------\n",
    "def run_scraper(b):\n",
    "    with output_area:\n",
    "        clear_output()\n",
    "        print(\"Starting scraper...\\n\")\n",
    "        country = country_widget.value.strip()\n",
    "        city = city_widget.value.strip()\n",
    "        categories = [c.strip() for c in categories_widget.value.split(\",\")]\n",
    "        output_file = output_widget.value.strip()\n",
    "        if not output_file.endswith(\".xlsx\"):\n",
    "            output_file += \".xlsx\"\n",
    "\n",
    "        data = []\n",
    "\n",
    "        for category in categories:\n",
    "            query = f\"{category} in {city}, {country}\"\n",
    "            print(f\"Searching Google Maps for '{query}'...\")\n",
    "\n",
    "            params = {\n",
    "                \"engine\": \"google_maps\",\n",
    "                \"q\": query,\n",
    "                \"hl\": \"en\",\n",
    "                \"type\": \"search\",\n",
    "                \"api_key\": SERPAPI_KEY\n",
    "            }\n",
    "\n",
    "            try:\n",
    "                res = requests.get(\"https://serpapi.com/search.json\", params=params)\n",
    "                res.raise_for_status()\n",
    "                results = res.json().get(\"local_results\", [])\n",
    "            except Exception as e:\n",
    "                print(f\"Error for {query}: {e}\")\n",
    "                continue\n",
    "\n",
    "            print(f\"Found {len(results)} businesses for '{category}'.\")\n",
    "\n",
    "            category_count = 0  # Counter for this category\n",
    "\n",
    "            for r in results:\n",
    "                name = r.get(\"title\")\n",
    "                website = r.get(\"website\")\n",
    "                phone = r.get(\"phone\")\n",
    "                address = r.get(\"address\")\n",
    "                email = extract_email_from_website(website)\n",
    "\n",
    "                if name and email:\n",
    "                    category_count += 1\n",
    "                    data.append({\n",
    "                        \"Business Name\": name,\n",
    "                        \"Email\": email,\n",
    "                        \"Phone\": phone or \"N/A\",\n",
    "                        \"Website\": website or \"N/A\",\n",
    "                        \"Address\": address or \"N/A\",\n",
    "                        \"Category\": category,\n",
    "                        \"Category Count\": category_count  # Add count column\n",
    "                    })\n",
    "                    print(f\"Added: {name} | {email}\")\n",
    "                else:\n",
    "                    print(f\"Skipped: {name} (no email found)\")\n",
    "\n",
    "        if data:\n",
    "            pd.DataFrame(data).to_excel(output_file, index=False)\n",
    "            print(f\"\\nData saved to {output_file}, total records: {len(data)}\")\n",
    "        else:\n",
    "            print(\"\\nNo data scraped. Check logs for details.\")\n",
    "# -----------------------------\n",
    "# Connect button\n",
    "# -----------------------------\n",
    "run_button.on_click(run_scraper)\n",
    "\n",
    "# -----------------------------\n",
    "# Display GUI\n",
    "# -----------------------------\n",
    "display(country_widget, city_widget, categories_widget, output_widget, run_button, output_area)\n"
   ]
  },
  {
   "cell_type": "code",
   "execution_count": null,
   "id": "c24f2a2c",
   "metadata": {},
   "outputs": [],
   "source": []
  }
 ],
 "metadata": {
  "kernelspec": {
   "display_name": "Python 3 (ipykernel)",
   "language": "python",
   "name": "python3"
  },
  "language_info": {
   "codemirror_mode": {
    "name": "ipython",
    "version": 3
   },
   "file_extension": ".py",
   "mimetype": "text/x-python",
   "name": "python",
   "nbconvert_exporter": "python",
   "pygments_lexer": "ipython3",
   "version": "3.9.13"
  }
 },
 "nbformat": 4,
 "nbformat_minor": 5
}
